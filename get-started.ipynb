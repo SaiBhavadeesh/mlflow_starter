{
 "cells": [
  {
   "cell_type": "markdown",
   "metadata": {},
   "source": [
    "## MLFlow Tracking Server"
   ]
  },
  {
   "cell_type": "code",
   "execution_count": 1,
   "metadata": {},
   "outputs": [],
   "source": [
    "import mlflow"
   ]
  },
  {
   "cell_type": "code",
   "execution_count": 2,
   "metadata": {},
   "outputs": [],
   "source": [
    "mlflow.set_tracking_uri(\"http://localhost:5000\")"
   ]
  },
  {
   "cell_type": "code",
   "execution_count": 3,
   "metadata": {},
   "outputs": [
    {
     "name": "stderr",
     "output_type": "stream",
     "text": [
      "2025/03/19 22:21:04 INFO mlflow.tracking.fluent: Experiment with name 'test' does not exist. Creating a new experiment.\n"
     ]
    },
    {
     "name": "stdout",
     "output_type": "stream",
     "text": [
      "🏃 View run delicate-newt-916 at: http://localhost:5000/#/experiments/738264961368983951/runs/b55ddb6b0a144879a02989972526bc55\n",
      "🧪 View experiment at: http://localhost:5000/#/experiments/738264961368983951\n"
     ]
    }
   ],
   "source": [
    "mlflow.set_experiment(\"test\")\n",
    "\n",
    "with mlflow.start_run():\n",
    "    mlflow.log_metric(\"m1\", 1.0)\n",
    "    mlflow.log_metric(\"m2\", 2.0)"
   ]
  },
  {
   "cell_type": "code",
   "execution_count": 4,
   "metadata": {},
   "outputs": [
    {
     "name": "stdout",
     "output_type": "stream",
     "text": [
      "🏃 View run treasured-smelt-190 at: http://localhost:5000/#/experiments/738264961368983951/runs/f9ca3c9899b04c40bcb70fef869bc70f\n",
      "🧪 View experiment at: http://localhost:5000/#/experiments/738264961368983951\n"
     ]
    }
   ],
   "source": [
    "with mlflow.start_run():\n",
    "    mlflow.log_metric(\"m3\", 3.0)\n",
    "    mlflow.log_metric(\"m4\", 4.0)"
   ]
  },
  {
   "cell_type": "code",
   "execution_count": 5,
   "metadata": {},
   "outputs": [
    {
     "name": "stdout",
     "output_type": "stream",
     "text": [
      "🏃 View run painted-stag-124 at: http://localhost:5000/#/experiments/738264961368983951/runs/4d0d74b361da4d489bf22872f1efc9e1\n",
      "🧪 View experiment at: http://localhost:5000/#/experiments/738264961368983951\n"
     ]
    }
   ],
   "source": [
    "with mlflow.start_run():\n",
    "    mlflow.log_metric(\"m5\", 5.0)\n",
    "    mlflow.log_metric(\"m6\", 6.0)"
   ]
  },
  {
   "cell_type": "markdown",
   "metadata": {},
   "source": []
  }
 ],
 "metadata": {
  "kernelspec": {
   "display_name": "Python 3",
   "language": "python",
   "name": "python3"
  },
  "language_info": {
   "codemirror_mode": {
    "name": "ipython",
    "version": 3
   },
   "file_extension": ".py",
   "mimetype": "text/x-python",
   "name": "python",
   "nbconvert_exporter": "python",
   "pygments_lexer": "ipython3",
   "version": "3.10.16"
  }
 },
 "nbformat": 4,
 "nbformat_minor": 2
}
